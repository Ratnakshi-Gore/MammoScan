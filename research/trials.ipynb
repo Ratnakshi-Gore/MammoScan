{
 "cells": [
  {
   "cell_type": "code",
   "execution_count": 1,
   "id": "63e735d4",
   "metadata": {},
   "outputs": [],
   "source": [
    "d = {\"key\":\"value\",\"key1\": \"value1\"}"
   ]
  },
  {
   "cell_type": "code",
   "execution_count": 2,
   "id": "5b20261d",
   "metadata": {},
   "outputs": [
    {
     "data": {
      "text/plain": [
       "'value'"
      ]
     },
     "execution_count": 2,
     "metadata": {},
     "output_type": "execute_result"
    }
   ],
   "source": [
    "d[\"key\"]"
   ]
  },
  {
   "cell_type": "code",
   "execution_count": 4,
   "id": "01fc7fd7",
   "metadata": {},
   "outputs": [
    {
     "ename": "AttributeError",
     "evalue": "'dict' object has no attribute 'key'",
     "output_type": "error",
     "traceback": [
      "\u001b[1;31m---------------------------------------------------------------------------\u001b[0m",
      "\u001b[1;31mAttributeError\u001b[0m                            Traceback (most recent call last)",
      "Cell \u001b[1;32mIn[4], line 1\u001b[0m\n\u001b[1;32m----> 1\u001b[0m \u001b[43md\u001b[49m\u001b[38;5;241;43m.\u001b[39;49m\u001b[43mkey\u001b[49m\n",
      "\u001b[1;31mAttributeError\u001b[0m: 'dict' object has no attribute 'key'"
     ]
    }
   ],
   "source": [
    "d.key"
   ]
  },
  {
   "cell_type": "code",
   "execution_count": 6,
   "id": "4db2ff5f",
   "metadata": {},
   "outputs": [
    {
     "name": "stdout",
     "output_type": "stream",
     "text": [
      "Collecting python-box\n",
      "  Downloading python_box-7.3.2-cp39-cp39-win_amd64.whl.metadata (8.3 kB)\n",
      "Downloading python_box-7.3.2-cp39-cp39-win_amd64.whl (1.2 MB)\n",
      "   ---------------------------------------- 0.0/1.2 MB ? eta -:--:--\n",
      "   ----------------- ---------------------- 0.5/1.2 MB 5.6 MB/s eta 0:00:01\n",
      "   ---------------------------------------- 1.2/1.2 MB 3.3 MB/s eta 0:00:00\n",
      "Installing collected packages: python-box\n",
      "Successfully installed python-box-7.3.2\n",
      "Note: you may need to restart the kernel to use updated packages.\n"
     ]
    }
   ],
   "source": [
    "pip install python-box\n"
   ]
  },
  {
   "cell_type": "code",
   "execution_count": 8,
   "id": "e7e9d806",
   "metadata": {},
   "outputs": [],
   "source": [
    "from box import ConfigBox"
   ]
  },
  {
   "cell_type": "code",
   "execution_count": 9,
   "id": "34129c75",
   "metadata": {},
   "outputs": [],
   "source": [
    "\n",
    "d2 = {\"key\":\"value\",\"key1\": \"value1\"}"
   ]
  },
  {
   "cell_type": "code",
   "execution_count": 10,
   "id": "8448b8e2",
   "metadata": {},
   "outputs": [],
   "source": [
    "d2 = ConfigBox(d2)"
   ]
  },
  {
   "cell_type": "code",
   "execution_count": 11,
   "id": "dab93196",
   "metadata": {},
   "outputs": [
    {
     "data": {
      "text/plain": [
       "ConfigBox({'key': 'value', 'key1': 'value1'})"
      ]
     },
     "execution_count": 11,
     "metadata": {},
     "output_type": "execute_result"
    }
   ],
   "source": [
    "d2"
   ]
  },
  {
   "cell_type": "code",
   "execution_count": 12,
   "id": "26293418",
   "metadata": {},
   "outputs": [
    {
     "data": {
      "text/plain": [
       "'value1'"
      ]
     },
     "execution_count": 12,
     "metadata": {},
     "output_type": "execute_result"
    }
   ],
   "source": [
    "d2.key1"
   ]
  },
  {
   "cell_type": "code",
   "execution_count": 1,
   "id": "334d849c",
   "metadata": {},
   "outputs": [],
   "source": [
    "def get_product(x:int, y:int):\n",
    "    return x*y"
   ]
  },
  {
   "cell_type": "code",
   "execution_count": 2,
   "id": "cf36e697",
   "metadata": {},
   "outputs": [
    {
     "data": {
      "text/plain": [
       "6"
      ]
     },
     "execution_count": 2,
     "metadata": {},
     "output_type": "execute_result"
    }
   ],
   "source": [
    "\n",
    "get_product(x = 2, y = 3)"
   ]
  },
  {
   "cell_type": "code",
   "execution_count": 3,
   "id": "013110e7",
   "metadata": {},
   "outputs": [
    {
     "data": {
      "text/plain": [
       "'33'"
      ]
     },
     "execution_count": 3,
     "metadata": {},
     "output_type": "execute_result"
    }
   ],
   "source": [
    "get_product(x = 2, y = \"3\")"
   ]
  },
  {
   "cell_type": "code",
   "execution_count": 5,
   "id": "91f04b6f",
   "metadata": {},
   "outputs": [
    {
     "name": "stdout",
     "output_type": "stream",
     "text": [
      "Collecting ensureNote: you may need to restart the kernel to use updated packages.\n",
      "\n",
      "  Downloading ensure-1.0.4-py3-none-any.whl.metadata (10 kB)\n",
      "Requirement already satisfied: six>=1.11.0 in c:\\users\\meow\\.conda\\envs\\mammoenv\\lib\\site-packages (from ensure) (1.17.0)\n",
      "Downloading ensure-1.0.4-py3-none-any.whl (15 kB)\n",
      "Installing collected packages: ensure\n",
      "Successfully installed ensure-1.0.4\n"
     ]
    }
   ],
   "source": [
    "pip install ensure\n"
   ]
  },
  {
   "cell_type": "code",
   "execution_count": 6,
   "id": "39bf28f2",
   "metadata": {},
   "outputs": [],
   "source": [
    "from ensure import ensure_annotations"
   ]
  },
  {
   "cell_type": "code",
   "execution_count": 7,
   "id": "b097d0a5",
   "metadata": {},
   "outputs": [],
   "source": [
    "@ensure_annotations\n",
    "def get_product(x:int, y:int):\n",
    "    return x*y"
   ]
  },
  {
   "cell_type": "code",
   "execution_count": 8,
   "id": "fffe4308",
   "metadata": {},
   "outputs": [
    {
     "ename": "EnsureError",
     "evalue": "Argument y of type <class 'str'> to <function get_product at 0x000001B1F5E37C10> does not match annotation type <class 'int'>",
     "output_type": "error",
     "traceback": [
      "\u001b[1;31m---------------------------------------------------------------------------\u001b[0m",
      "\u001b[1;31mEnsureError\u001b[0m                               Traceback (most recent call last)",
      "Cell \u001b[1;32mIn[8], line 1\u001b[0m\n\u001b[1;32m----> 1\u001b[0m \u001b[43mget_product\u001b[49m\u001b[43m(\u001b[49m\u001b[43mx\u001b[49m\u001b[43m \u001b[49m\u001b[38;5;241;43m=\u001b[39;49m\u001b[43m \u001b[49m\u001b[38;5;241;43m2\u001b[39;49m\u001b[43m,\u001b[49m\u001b[43m \u001b[49m\u001b[43my\u001b[49m\u001b[43m \u001b[49m\u001b[38;5;241;43m=\u001b[39;49m\u001b[43m \u001b[49m\u001b[38;5;124;43m\"\u001b[39;49m\u001b[38;5;124;43m3\u001b[39;49m\u001b[38;5;124;43m\"\u001b[39;49m\u001b[43m)\u001b[49m\n",
      "File \u001b[1;32mc:\\Users\\Meow\\.conda\\envs\\mammoenv\\lib\\site-packages\\ensure\\main.py:833\u001b[0m, in \u001b[0;36mWrappedFunction.__call__\u001b[1;34m(self, *args, **kwargs)\u001b[0m\n\u001b[0;32m    831\u001b[0m     \u001b[38;5;28;01mif\u001b[39;00m \u001b[38;5;129;01mnot\u001b[39;00m \u001b[38;5;28misinstance\u001b[39m(value, templ):\n\u001b[0;32m    832\u001b[0m         msg \u001b[38;5;241m=\u001b[39m \u001b[38;5;124m\"\u001b[39m\u001b[38;5;124mArgument \u001b[39m\u001b[38;5;132;01m{arg}\u001b[39;00m\u001b[38;5;124m of type \u001b[39m\u001b[38;5;132;01m{valt}\u001b[39;00m\u001b[38;5;124m to \u001b[39m\u001b[38;5;132;01m{f}\u001b[39;00m\u001b[38;5;124m \u001b[39m\u001b[38;5;124m\"\u001b[39m \u001b[38;5;124m\"\u001b[39m\u001b[38;5;124mdoes not match annotation type \u001b[39m\u001b[38;5;132;01m{t}\u001b[39;00m\u001b[38;5;124m\"\u001b[39m\n\u001b[1;32m--> 833\u001b[0m         \u001b[38;5;28;01mraise\u001b[39;00m EnsureError(msg\u001b[38;5;241m.\u001b[39mformat(arg\u001b[38;5;241m=\u001b[39marg, f\u001b[38;5;241m=\u001b[39m\u001b[38;5;28mself\u001b[39m\u001b[38;5;241m.\u001b[39mf, t\u001b[38;5;241m=\u001b[39mtempl, valt\u001b[38;5;241m=\u001b[39m\u001b[38;5;28mtype\u001b[39m(value)))\n\u001b[0;32m    835\u001b[0m \u001b[38;5;28;01mreturn\u001b[39;00m \u001b[38;5;28mself\u001b[39m\u001b[38;5;241m.\u001b[39mf(\u001b[38;5;241m*\u001b[39margs, \u001b[38;5;241m*\u001b[39m\u001b[38;5;241m*\u001b[39mkwargs)\n",
      "\u001b[1;31mEnsureError\u001b[0m: Argument y of type <class 'str'> to <function get_product at 0x000001B1F5E37C10> does not match annotation type <class 'int'>"
     ]
    }
   ],
   "source": [
    "\n",
    "get_product(x = 2, y = \"3\")"
   ]
  },
  {
   "cell_type": "markdown",
   "id": "36b4bd48",
   "metadata": {},
   "source": [
    "\n",
    "Download your dataset from google drive"
   ]
  },
  {
   "cell_type": "code",
   "execution_count": 11,
   "id": "b4a4db83",
   "metadata": {},
   "outputs": [],
   "source": [
    "import gdown"
   ]
  },
  {
   "cell_type": "code",
   "execution_count": 10,
   "id": "11b1fe9a",
   "metadata": {},
   "outputs": [
    {
     "name": "stdout",
     "output_type": "stream",
     "text": [
      "Collecting gdownNote: you may need to restart the kernel to use updated packages.\n"
     ]
    },
    {
     "name": "stderr",
     "output_type": "stream",
     "text": [
      "ERROR: pip's dependency resolver does not currently take into account all the packages that are installed. This behaviour is the source of the following dependency conflicts.\n",
      "torch 2.2.0 requires fsspec, which is not installed.\n",
      "torch 2.2.0 requires jinja2, which is not installed.\n",
      "torch 2.2.0 requires networkx, which is not installed.\n",
      "torch 2.2.0 requires sympy, which is not installed.\n",
      "torchvision 0.17.0 requires numpy, which is not installed.\n",
      "torchvision 0.17.0 requires pillow!=8.3.*,>=5.3.0, which is not installed.\n",
      "ultralytics 8.1.11 requires matplotlib>=3.3.0, which is not installed.\n",
      "ultralytics 8.1.11 requires numpy>=1.22.2, which is not installed.\n",
      "ultralytics 8.1.11 requires opencv-python>=4.6.0, which is not installed.\n",
      "ultralytics 8.1.11 requires pandas>=1.1.4, which is not installed.\n",
      "ultralytics 8.1.11 requires pillow>=7.1.2, which is not installed.\n",
      "ultralytics 8.1.11 requires py-cpuinfo, which is not installed.\n",
      "ultralytics 8.1.11 requires pyyaml>=5.3.1, which is not installed.\n",
      "ultralytics 8.1.11 requires scipy>=1.4.1, which is not installed.\n",
      "ultralytics 8.1.11 requires seaborn>=0.11.0, which is not installed.\n"
     ]
    },
    {
     "name": "stdout",
     "output_type": "stream",
     "text": [
      "\n",
      "  Downloading gdown-5.2.0-py3-none-any.whl.metadata (5.8 kB)\n",
      "Collecting beautifulsoup4 (from gdown)\n",
      "  Downloading beautifulsoup4-4.13.4-py3-none-any.whl.metadata (3.8 kB)\n",
      "Collecting filelock (from gdown)\n",
      "  Downloading filelock-3.18.0-py3-none-any.whl.metadata (2.9 kB)\n",
      "Collecting requests[socks] (from gdown)\n",
      "  Downloading requests-2.32.4-py3-none-any.whl.metadata (4.9 kB)\n",
      "Collecting tqdm (from gdown)\n",
      "  Downloading tqdm-4.67.1-py3-none-any.whl.metadata (57 kB)\n",
      "Collecting soupsieve>1.2 (from beautifulsoup4->gdown)\n",
      "  Downloading soupsieve-2.7-py3-none-any.whl.metadata (4.6 kB)\n",
      "Requirement already satisfied: typing-extensions>=4.0.0 in c:\\users\\meow\\.conda\\envs\\mammoenv\\lib\\site-packages (from beautifulsoup4->gdown) (4.14.1)\n",
      "Collecting charset_normalizer<4,>=2 (from requests[socks]->gdown)\n",
      "  Downloading charset_normalizer-3.4.2-cp39-cp39-win_amd64.whl.metadata (36 kB)\n",
      "Collecting idna<4,>=2.5 (from requests[socks]->gdown)\n",
      "  Downloading idna-3.10-py3-none-any.whl.metadata (10 kB)\n",
      "Collecting urllib3<3,>=1.21.1 (from requests[socks]->gdown)\n",
      "  Downloading urllib3-2.5.0-py3-none-any.whl.metadata (6.5 kB)\n",
      "Collecting certifi>=2017.4.17 (from requests[socks]->gdown)\n",
      "  Downloading certifi-2025.7.14-py3-none-any.whl.metadata (2.4 kB)\n",
      "Collecting PySocks!=1.5.7,>=1.5.6 (from requests[socks]->gdown)\n",
      "  Downloading PySocks-1.7.1-py3-none-any.whl.metadata (13 kB)\n",
      "Requirement already satisfied: colorama in c:\\users\\meow\\.conda\\envs\\mammoenv\\lib\\site-packages (from tqdm->gdown) (0.4.6)\n",
      "Downloading gdown-5.2.0-py3-none-any.whl (18 kB)\n",
      "Downloading beautifulsoup4-4.13.4-py3-none-any.whl (187 kB)\n",
      "Downloading soupsieve-2.7-py3-none-any.whl (36 kB)\n",
      "Downloading filelock-3.18.0-py3-none-any.whl (16 kB)\n",
      "Downloading requests-2.32.4-py3-none-any.whl (64 kB)\n",
      "Downloading charset_normalizer-3.4.2-cp39-cp39-win_amd64.whl (105 kB)\n",
      "Downloading idna-3.10-py3-none-any.whl (70 kB)\n",
      "Downloading urllib3-2.5.0-py3-none-any.whl (129 kB)\n",
      "Downloading certifi-2025.7.14-py3-none-any.whl (162 kB)\n",
      "Downloading PySocks-1.7.1-py3-none-any.whl (16 kB)\n",
      "Downloading tqdm-4.67.1-py3-none-any.whl (78 kB)\n",
      "Installing collected packages: urllib3, tqdm, soupsieve, PySocks, idna, filelock, charset_normalizer, certifi, requests, beautifulsoup4, gdown\n",
      "\n",
      "   ----------------------------------------  0/11 [urllib3]\n",
      "   ----------------------------------------  0/11 [urllib3]\n",
      "   ----------------------------------------  0/11 [urllib3]\n",
      "   ----------------------------------------  0/11 [urllib3]\n",
      "   ----------------------------------------  0/11 [urllib3]\n",
      "   ----------------------------------------  0/11 [urllib3]\n",
      "   ----------------------------------------  0/11 [urllib3]\n",
      "   ----------------------------------------  0/11 [urllib3]\n",
      "   ----------------------------------------  0/11 [urllib3]\n",
      "   ----------------------------------------  0/11 [urllib3]\n",
      "   ----------------------------------------  0/11 [urllib3]\n",
      "   --- ------------------------------------  1/11 [tqdm]\n",
      "   --- ------------------------------------  1/11 [tqdm]\n",
      "   --- ------------------------------------  1/11 [tqdm]\n",
      "   --- ------------------------------------  1/11 [tqdm]\n",
      "   --- ------------------------------------  1/11 [tqdm]\n",
      "   --- ------------------------------------  1/11 [tqdm]\n",
      "   --- ------------------------------------  1/11 [tqdm]\n",
      "   --- ------------------------------------  1/11 [tqdm]\n",
      "   --- ------------------------------------  1/11 [tqdm]\n",
      "   --- ------------------------------------  1/11 [tqdm]\n",
      "   --- ------------------------------------  1/11 [tqdm]\n",
      "   --- ------------------------------------  1/11 [tqdm]\n",
      "   --- ------------------------------------  1/11 [tqdm]\n",
      "   --- ------------------------------------  1/11 [tqdm]\n",
      "   ------- --------------------------------  2/11 [soupsieve]\n",
      "   ------- --------------------------------  2/11 [soupsieve]\n",
      "   ------- --------------------------------  2/11 [soupsieve]\n",
      "   ---------- -----------------------------  3/11 [PySocks]\n",
      "   -------------- -------------------------  4/11 [idna]\n",
      "   -------------- -------------------------  4/11 [idna]\n",
      "   -------------- -------------------------  4/11 [idna]\n",
      "   ------------------ ---------------------  5/11 [filelock]\n",
      "   ------------------ ---------------------  5/11 [filelock]\n",
      "   --------------------- ------------------  6/11 [charset_normalizer]\n",
      "   --------------------- ------------------  6/11 [charset_normalizer]\n",
      "   --------------------- ------------------  6/11 [charset_normalizer]\n",
      "   --------------------- ------------------  6/11 [charset_normalizer]\n",
      "   --------------------- ------------------  6/11 [charset_normalizer]\n",
      "   --------------------- ------------------  6/11 [charset_normalizer]\n",
      "   --------------------- ------------------  6/11 [charset_normalizer]\n",
      "   --------------------- ------------------  6/11 [charset_normalizer]\n",
      "   --------------------- ------------------  6/11 [charset_normalizer]\n",
      "   ------------------------- --------------  7/11 [certifi]\n",
      "   ----------------------------- ----------  8/11 [requests]\n",
      "   ----------------------------- ----------  8/11 [requests]\n",
      "   ----------------------------- ----------  8/11 [requests]\n",
      "   ----------------------------- ----------  8/11 [requests]\n",
      "   ----------------------------- ----------  8/11 [requests]\n",
      "   -------------------------------- -------  9/11 [beautifulsoup4]\n",
      "   -------------------------------- -------  9/11 [beautifulsoup4]\n",
      "   -------------------------------- -------  9/11 [beautifulsoup4]\n",
      "   -------------------------------- -------  9/11 [beautifulsoup4]\n",
      "   -------------------------------- -------  9/11 [beautifulsoup4]\n",
      "   -------------------------------- -------  9/11 [beautifulsoup4]\n",
      "   -------------------------------- -------  9/11 [beautifulsoup4]\n",
      "   -------------------------------- -------  9/11 [beautifulsoup4]\n",
      "   -------------------------------- -------  9/11 [beautifulsoup4]\n",
      "   -------------------------------- -------  9/11 [beautifulsoup4]\n",
      "   -------------------------------- -------  9/11 [beautifulsoup4]\n",
      "   -------------------------------- -------  9/11 [beautifulsoup4]\n",
      "   -------------------------------- -------  9/11 [beautifulsoup4]\n",
      "   -------------------------------- -------  9/11 [beautifulsoup4]\n",
      "   ------------------------------------ --- 10/11 [gdown]\n",
      "   ------------------------------------ --- 10/11 [gdown]\n",
      "   ------------------------------------ --- 10/11 [gdown]\n",
      "   ------------------------------------ --- 10/11 [gdown]\n",
      "   ------------------------------------ --- 10/11 [gdown]\n",
      "   ------------------------------------ --- 10/11 [gdown]\n",
      "   ------------------------------------ --- 10/11 [gdown]\n",
      "   ------------------------------------ --- 10/11 [gdown]\n",
      "   ---------------------------------------- 11/11 [gdown]\n",
      "\n",
      "Successfully installed PySocks-1.7.1 beautifulsoup4-4.13.4 certifi-2025.7.14 charset_normalizer-3.4.2 filelock-3.18.0 gdown-5.2.0 idna-3.10 requests-2.32.4 soupsieve-2.7 tqdm-4.67.1 urllib3-2.5.0\n"
     ]
    }
   ],
   "source": [
    "pip install gdown"
   ]
  },
  {
   "cell_type": "code",
   "execution_count": 12,
   "id": "e89b528d",
   "metadata": {},
   "outputs": [],
   "source": [
    "url = 'https://drive.google.com/file/d/1w_OVqKtU0QGTm3nGo5A0-eFo6f3Cc9rY/view?usp=drive_link'"
   ]
  },
  {
   "cell_type": "code",
   "execution_count": 13,
   "id": "49a5304c",
   "metadata": {},
   "outputs": [
    {
     "data": {
      "text/plain": [
       "str"
      ]
     },
     "execution_count": 13,
     "metadata": {},
     "output_type": "execute_result"
    }
   ],
   "source": [
    "type(url)"
   ]
  },
  {
   "cell_type": "code",
   "execution_count": 14,
   "id": "0bd0344a",
   "metadata": {},
   "outputs": [
    {
     "data": {
      "text/plain": [
       "'1w_OVqKtU0QGTm3nGo5A0-eFo6f3Cc9rY'"
      ]
     },
     "execution_count": 14,
     "metadata": {},
     "output_type": "execute_result"
    }
   ],
   "source": [
    "file_id = url.split(\"/\")[-2]\n",
    "file_id"
   ]
  },
  {
   "cell_type": "code",
   "execution_count": 19,
   "id": "626e91b3",
   "metadata": {},
   "outputs": [
    {
     "name": "stderr",
     "output_type": "stream",
     "text": [
      "c:\\Users\\Meow\\.conda\\envs\\mammoenv\\lib\\site-packages\\gdown\\parse_url.py:48: UserWarning: You specified a Google Drive link that is not the correct link to download a file. You might want to try `--fuzzy` option or the following url: https://drive.google.com/uc?id=1w_OVqKtU0QGTm3nGo5A0-eFo6f3Cc9rY\n",
      "  warnings.warn(\n",
      "Downloading...\n",
      "From: https://drive.google.com/file/d/1w_OVqKtU0QGTm3nGo5A0-eFo6f3Cc9rY/view?usp=drive_link\n",
      "To: c:\\Users\\Meow\\Desktop\\PORTFOLIO\\MammoScan\\research\\Chest-CT-Scan-dataset.zip\n",
      "8.93kB [00:00, ?B/s]\n"
     ]
    },
    {
     "data": {
      "text/plain": [
       "'Chest-CT-Scan-dataset.zip'"
      ]
     },
     "execution_count": 19,
     "metadata": {},
     "output_type": "execute_result"
    }
   ],
   "source": [
    "prefix = 'https://drive.google.com/uc?/export=download&id='\n",
    "gdown.download(url, \"Chest-CT-Scan-dataset.zip\")"
   ]
  },
  {
   "cell_type": "code",
   "execution_count": null,
   "id": "50bfa61c",
   "metadata": {},
   "outputs": [],
   "source": []
  }
 ],
 "metadata": {
  "kernelspec": {
   "display_name": "mammoenv",
   "language": "python",
   "name": "python3"
  },
  "language_info": {
   "codemirror_mode": {
    "name": "ipython",
    "version": 3
   },
   "file_extension": ".py",
   "mimetype": "text/x-python",
   "name": "python",
   "nbconvert_exporter": "python",
   "pygments_lexer": "ipython3",
   "version": "3.9.23"
  }
 },
 "nbformat": 4,
 "nbformat_minor": 5
}
